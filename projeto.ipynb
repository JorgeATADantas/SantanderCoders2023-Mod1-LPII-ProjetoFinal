{
 "cells": [
  {
   "cell_type": "markdown",
   "metadata": {},
   "source": [
    "**Parte 1**\n",
    "\n",
    "1. Criar um arquivo JSON, a cada ano, contendo todas as informações importantes dos funcionários."
   ]
  },
  {
   "cell_type": "markdown",
   "metadata": {},
   "source": [
    "    - Importando os arquivos e transformando e dicionários:"
   ]
  },
  {
   "cell_type": "code",
   "execution_count": null,
   "metadata": {},
   "outputs": [],
   "source": [
    "import csv\n",
    "\n",
    "arquivo_2020 = open('2020/admissoes.csv', 'r')\n",
    "arquivo_2021 = open('2021/admissoes.csv', 'r')\n",
    "arquivo_2022 = open('2022/admissoes.csv', 'r')\n",
    "\n",
    "planilha_2020 = csv.reader(arquivo_2020, delimiter=',', lineterminator='\\n')\n",
    "planilha_2021 = csv.reader(arquivo_2021, delimiter=',', lineterminator='\\n')\n",
    "planilha_2022 = csv.reader(arquivo_2022, delimiter=',', lineterminator='\\n')\n",
    "\n",
    "lista_admissao_2020 = [linha for linha in planilha_2020]\n",
    "lista_admissao_2021 = [linha for linha in planilha_2021]\n",
    "lista_admissao_2022 = [linha for linha in planilha_2022]\n",
    "\n",
    "dicionario_2020 = {id[0]:{lista_admissao_2020[0][i]:id[i] for i in range(1,7)} for id in lista_admissao_2020[1:]}\n",
    "dicionario_2021 = {id[0]:{lista_admissao_2021[0][i]:id[i] for i in range(1,7)} for id in lista_admissao_2021[1:]} \n",
    "dicionario_2022 = {id[0]:{lista_admissao_2022[0][i]:id[i] for i in range(1,7)} for id in lista_admissao_2022[1:]}  \n",
    "\n",
    "arquivo_2020.close()\n",
    "arquivo_2021.close()\n",
    "arquivo_2022.close()\n",
    "\n",
    "print(lista_admissao_2020)\n",
    "# print(lista_admissao_2021)\n",
    "# print(lista_admissao_2022)\n",
    "\n",
    "dicionario_2020\n",
    "# dicionario_2021\n",
    "# dicionario_2022"
   ]
  },
  {
   "cell_type": "markdown",
   "metadata": {},
   "source": [
    ">>>>Sugestão: encapsular em funções, definir o que quer fazer e em que ano quer estar"
   ]
  },
  {
   "cell_type": "markdown",
   "metadata": {},
   "source": [
    ">>>> Adicionar ao dicionário o campo de Demissões"
   ]
  },
  {
   "cell_type": "markdown",
   "metadata": {},
   "source": [
    "    - Tratando os dados e criando o campo Promoçao:"
   ]
  },
  {
   "cell_type": "code",
   "execution_count": null,
   "metadata": {},
   "outputs": [],
   "source": [
    "for id_2020 in dicionario_2020:\n",
    "    for id_2021 in dicionario_2021:\n",
    "        if id_2020 == id_2021:\n",
    "            promocao=dicionario_2021[id_2021]['Promoção']={'Antigo Cargo':dicionario_2020[id_2020].get('Cargo'),'Antigo Salário':dicionario_2020[id_2020].get('Salário')}\n",
    "\n",
    "for id_2020 in dicionario_2020:\n",
    "    for id_2022 in dicionario_2022:\n",
    "        if id_2020 == id_2022:\n",
    "            promocao=dicionario_2022[id_2022]['Promoção']={'Antigo Cargo':dicionario_2020[id_2020].get('Cargo'),'Antigo Salário':dicionario_2020[id_2020].get('Salário')}\n",
    "\n",
    "for id_2021 in dicionario_2021:\n",
    "    for id_2022 in dicionario_2022:\n",
    "        if id_2021 == id_2022:\n",
    "            promocao=dicionario_2022[id_2022]['Promoção']={'Antigo Cargo':dicionario_2021[id_2021].get('Cargo'),'Antigo Salário':dicionario_2021[id_2021].get('Salário')}\n",
    "\n",
    "\n",
    "dicionario_2022"
   ]
  }
 ],
 "metadata": {
  "kernelspec": {
   "display_name": "Python 3",
   "language": "python",
   "name": "python3"
  },
  "language_info": {
   "codemirror_mode": {
    "name": "ipython",
    "version": 3
   },
   "file_extension": ".py",
   "mimetype": "text/x-python",
   "name": "python",
   "nbconvert_exporter": "python",
   "pygments_lexer": "ipython3",
   "version": "3.11.3"
  },
  "orig_nbformat": 4
 },
 "nbformat": 4,
 "nbformat_minor": 2
}
